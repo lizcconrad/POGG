{
 "cells": [
  {
   "cell_type": "code",
   "id": "initial_id",
   "metadata": {
    "collapsed": true,
    "ExecuteTime": {
     "end_time": "2025-07-10T13:57:01.569416Z",
     "start_time": "2025-07-10T13:57:00.615131Z"
    }
   },
   "source": [
    "from delphin import ace, mrs\n",
    "from delphin.codecs import simplemrs\n",
    "from pogg.pogg_config import POGGConfig\n",
    "import pogg.my_delphin.sementcodecs as sementcodecs\n",
    "import pogg.semantic_composition.sement_util as sement_util\n",
    "import pogg.semantic_composition.semantic_algebra as sem_algebra\n",
    "\n",
    "pogg_config = POGGConfig(\"data/config.yml\")\n",
    "\n",
    "def check_if_quantified(check_SEMENT):\n",
    "    \"\"\"\n",
    "    Check if the given SEMENT is quantified (assumes generation is occurring on referring expressions)\n",
    "    :param check_SEMENT: SEMENT to be checked\n",
    "    :type check_SEMENT: SEMENT\n",
    "    :return: quantified SEMENT (may be unchanged from given)\n",
    "    :rtype: SEMENT\n",
    "    \"\"\"\n",
    "    # if the INDEX (or something eq to INDEX) is not the ARG0 of something with RSTR, gg\n",
    "    index = check_SEMENT.index\n",
    "    index_set = set()\n",
    "    index_set.add(index)\n",
    "    # go through eqs to find variables eq to index\n",
    "    if check_SEMENT.eqs is not None:\n",
    "        for eq in check_SEMENT.eqs:\n",
    "            if index in eq:\n",
    "                for elem in eq:\n",
    "                    index_set.add(elem)\n",
    "\n",
    "    for rel in check_SEMENT.rels:\n",
    "        if rel.args['ARG0'] in index_set and 'RSTR' in rel.args:\n",
    "            return True\n",
    "    return False\n",
    "\n",
    "def print_and_generate(sement):\n",
    "    pre_wrapped_sement = sement_util.overwrite_eqs(sement)\n",
    "\n",
    "    print(\"PRE-WRAPPED MRS...\")\n",
    "    mrs_string = simplemrs.encode(pre_wrapped_sement, indent=True)\n",
    "    print(\"{}\\n\".format(mrs_string))\n",
    "\n",
    "    print(\"WRAPPED & QUANTIFIED MRS...\")\n",
    "    unknown = sem_algebra.create_base_SEMENT(pogg_config, \"unknown\")\n",
    "    # check if INDEX is of type e, wrap it if not\n",
    "    if sement.index[0] != \"e\":\n",
    "        if not check_if_quantified(sement):\n",
    "            udef = sem_algebra.create_base_SEMENT(pogg_config, \"udef_q\")\n",
    "            quantified_sement = sem_algebra.op_scopal_quantifier(udef, sement)\n",
    "        else:\n",
    "            quantified_sement = sement\n",
    "\n",
    "        # plug ARG of unknown with INDEX\n",
    "        new_sement = sem_algebra.op_non_scopal_functor_hook(unknown, quantified_sement, \"ARG\")\n",
    "    else:\n",
    "        new_sement = sement\n",
    "    # qeq between new imaginary GTOP and LTOP of sement\n",
    "    new_sement.hcons.append(mrs.HCons(\"h000\", \"qeq\", sement.top))\n",
    "    new_sement.top = \"h000\"\n",
    "\n",
    "    # overwrite_eqs after composition\n",
    "    wrapped_sement = sement_util.overwrite_eqs(new_sement)\n",
    "\n",
    "    wrapped_mrs_string = simplemrs.encode(wrapped_sement, indent=True)\n",
    "    print(\"{}\\n\".format(wrapped_mrs_string))\n",
    "\n",
    "\n",
    "    # GENERATOR\n",
    "    with ace.ACEGenerator(pogg_config.grammar_location, ['-r', 'root_frag']) as generator:\n",
    "            generator_response = generator.interact(wrapped_mrs_string)\n",
    "            print(\"GENERATED RESULTS...\")\n",
    "            for r in generator_response.results():\n",
    "                print(r.get('surface'))\n",
    "    print(\"\\n\\n\\n\")"
   ],
   "outputs": [
    {
     "name": "stderr",
     "output_type": "stream",
     "text": [
      "/Users/lizcconrad/.venvs/pogg_tests/lib/python3.13/site-packages/delphin/semi.py:471: SemIWarning: _be_v_id: property 'NUM' not allowed on 'i'\n",
      "  self._init_synopsis(pred, synopsis_data, propcache))\n",
      "/Users/lizcconrad/.venvs/pogg_tests/lib/python3.13/site-packages/delphin/semi.py:471: SemIWarning: one+less_a: property 'NUM' not allowed on 'i'\n",
      "  self._init_synopsis(pred, synopsis_data, propcache))\n",
      "/Users/lizcconrad/.venvs/pogg_tests/lib/python3.13/site-packages/delphin/semi.py:471: SemIWarning: one+more_a: property 'NUM' not allowed on 'i'\n",
      "  self._init_synopsis(pred, synopsis_data, propcache))\n",
      "/Users/lizcconrad/.venvs/pogg_tests/lib/python3.13/site-packages/delphin/semi.py:471: SemIWarning: poss: property 'NUM' not allowed on 'i'\n",
      "  self._init_synopsis(pred, synopsis_data, propcache))\n"
     ]
    }
   ],
   "execution_count": 95
  },
  {
   "metadata": {
    "ExecuteTime": {
     "end_time": "2025-07-10T13:57:01.578074Z",
     "start_time": "2025-07-10T13:57:01.574514Z"
    }
   },
   "cell_type": "code",
   "source": [
    "\n",
    "\n",
    "# make SEMENTs for \"Liz,\" \"eat,\" \"a,\" \"tasty,\" and \"cookie\"\n",
    "liz = sem_algebra.create_CARG_SEMENT(pogg_config, \"named\", \"Liz\")\n",
    "eat = sem_algebra.create_base_SEMENT(pogg_config, \"_eat_v_1\")\n",
    "a = sem_algebra.create_base_SEMENT(pogg_config, \"_a_q\")\n",
    "tasty = sem_algebra.create_base_SEMENT(pogg_config, \"_tasty_a_1\")\n",
    "cookie = sem_algebra.create_base_SEMENT(pogg_config, \"_cookie_n_1\")\n"
   ],
   "id": "e9117572fcc860c4",
   "outputs": [],
   "execution_count": 96
  },
  {
   "metadata": {
    "ExecuteTime": {
     "end_time": "2025-07-10T13:57:01.590497Z",
     "start_time": "2025-07-10T13:57:01.586647Z"
    }
   },
   "cell_type": "code",
   "source": [
    "\n",
    "sements = [liz, eat, a, tasty, cookie]\n",
    "for s in sements:\n",
    "    print(\"{}\\n\".format(sementcodecs.encode(s, indent=True)))"
   ],
   "id": "251b9b16f9acb178",
   "outputs": [
    {
     "name": "stdout",
     "output_type": "stream",
     "text": [
      "[ TOP: h2\n",
      "  INDEX: x1\n",
      "  RELS: < [ named LBL: h2 ARG0: x1 CARG: \"Liz\" ] > ]\n",
      "\n",
      "[ TOP: h6\n",
      "  INDEX: e3\n",
      "  RELS: < [ _eat_v_1 LBL: h6 ARG0: e3 ARG1: i4 ARG2: i5 ] >\n",
      "  SLOTS: < ARG1: i4 ARG2: i5 > ]\n",
      "\n",
      "[ TOP: h11\n",
      "  INDEX: x7\n",
      "  RELS: < [ _a_q LBL: h10 ARG0: x7 RSTR: h8 BODY: h9 ] >\n",
      "  SLOTS: < ARG0: x7 RSTR: h8 BODY: h9 > ]\n",
      "\n",
      "[ TOP: h14\n",
      "  INDEX: e12\n",
      "  RELS: < [ _tasty_a_1 LBL: h14 ARG0: e12 ARG1: u13 ] >\n",
      "  SLOTS: < ARG1: u13 > ]\n",
      "\n",
      "[ TOP: h16\n",
      "  INDEX: x15\n",
      "  RELS: < [ _cookie_n_1 LBL: h16 ARG0: x15 ] > ]\n",
      "\n"
     ]
    }
   ],
   "execution_count": 97
  },
  {
   "metadata": {
    "ExecuteTime": {
     "end_time": "2025-07-10T13:57:01.679375Z",
     "start_time": "2025-07-10T13:57:01.675544Z"
    }
   },
   "cell_type": "code",
   "source": [
    "tasty_cookie = sem_algebra.op_non_scopal_argument_hook(tasty, cookie, \"ARG1\")\n",
    "print(sementcodecs.encode(tasty_cookie, indent=True))"
   ],
   "id": "d008f29d827ea861",
   "outputs": [
    {
     "name": "stdout",
     "output_type": "stream",
     "text": [
      "[ TOP: h16\n",
      "  INDEX: x15\n",
      "  RELS: < [ _tasty_a_1 LBL: h14 ARG0: e12 ARG1: u13 ]\n",
      "          [ _cookie_n_1 LBL: h16 ARG0: x15 ] >\n",
      "  EQS: < h14 eq h16 u13 eq x15 > ]\n"
     ]
    }
   ],
   "execution_count": 98
  }
 ],
 "metadata": {
  "kernelspec": {
   "display_name": "Python 3",
   "language": "python",
   "name": "python3"
  },
  "language_info": {
   "codemirror_mode": {
    "name": "ipython",
    "version": 2
   },
   "file_extension": ".py",
   "mimetype": "text/x-python",
   "name": "python",
   "nbconvert_exporter": "python",
   "pygments_lexer": "ipython2",
   "version": "2.7.6"
  }
 },
 "nbformat": 4,
 "nbformat_minor": 5
}
